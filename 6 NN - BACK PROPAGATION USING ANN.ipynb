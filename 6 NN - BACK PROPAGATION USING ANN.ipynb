{
 "cells": [
  {
   "cell_type": "code",
   "execution_count": 1,
   "id": "70600fa2",
   "metadata": {},
   "outputs": [],
   "source": [
    "import numpy as np"
   ]
  },
  {
   "cell_type": "code",
   "execution_count": 2,
   "id": "8c67eeb6",
   "metadata": {},
   "outputs": [],
   "source": [
    "X=np.array(([2,9],[1,5],[3,6]),dtype=float)"
   ]
  },
  {
   "cell_type": "code",
   "execution_count": 3,
   "id": "57559ff2",
   "metadata": {},
   "outputs": [],
   "source": [
    "y=np.array(([92],[86],[89]),dtype=float)"
   ]
  },
  {
   "cell_type": "code",
   "execution_count": 4,
   "id": "c68058a3",
   "metadata": {},
   "outputs": [],
   "source": [
    "X=X/np.amax(X,axis=0)"
   ]
  },
  {
   "cell_type": "code",
   "execution_count": 5,
   "id": "62387b16",
   "metadata": {},
   "outputs": [],
   "source": [
    "y=y/100"
   ]
  },
  {
   "cell_type": "code",
   "execution_count": 6,
   "id": "1190515b",
   "metadata": {},
   "outputs": [],
   "source": [
    "def sigmoid(X):\n",
    "    return 1/(1+np.exp(-X))"
   ]
  },
  {
   "cell_type": "code",
   "execution_count": 7,
   "id": "e80aac82",
   "metadata": {},
   "outputs": [],
   "source": [
    "def derivatives_sigmoid(x):\n",
    "    return x*(1-x)"
   ]
  },
  {
   "cell_type": "code",
   "execution_count": 8,
   "id": "939ca43a",
   "metadata": {},
   "outputs": [],
   "source": [
    "epoch=7000"
   ]
  },
  {
   "cell_type": "code",
   "execution_count": 9,
   "id": "b41a61e7",
   "metadata": {},
   "outputs": [],
   "source": [
    "lr=0.1"
   ]
  },
  {
   "cell_type": "code",
   "execution_count": 10,
   "id": "601145c1",
   "metadata": {},
   "outputs": [],
   "source": [
    "inputlayer_neurons=2 "
   ]
  },
  {
   "cell_type": "code",
   "execution_count": 11,
   "id": "3347f66f",
   "metadata": {},
   "outputs": [],
   "source": [
    "hiddenlayer_neurons=3 "
   ]
  },
  {
   "cell_type": "code",
   "execution_count": 12,
   "id": "c0395fd6",
   "metadata": {},
   "outputs": [],
   "source": [
    "output_neurons=1 "
   ]
  },
  {
   "cell_type": "code",
   "execution_count": 13,
   "id": "045447cb",
   "metadata": {},
   "outputs": [],
   "source": [
    "wh=np.random.uniform(size=(inputlayer_neurons,hiddenlayer_neurons))"
   ]
  },
  {
   "cell_type": "code",
   "execution_count": 14,
   "id": "95b44e78",
   "metadata": {},
   "outputs": [],
   "source": [
    "bh=np.random.uniform(size=(1,hiddenlayer_neurons))"
   ]
  },
  {
   "cell_type": "code",
   "execution_count": 15,
   "id": "047e5eb1",
   "metadata": {},
   "outputs": [],
   "source": [
    "wout=np.random.uniform(size=(hiddenlayer_neurons,output_neurons))"
   ]
  },
  {
   "cell_type": "code",
   "execution_count": 16,
   "id": "9838b428",
   "metadata": {},
   "outputs": [],
   "source": [
    "bout=np.random.uniform(size=(1,output_neurons))"
   ]
  },
  {
   "cell_type": "code",
   "execution_count": 17,
   "id": "f2c88e53",
   "metadata": {},
   "outputs": [],
   "source": [
    "for i in range(epoch):\n",
    "\n",
    "    hinp1=np.dot(X,wh)\n",
    "hinp=hinp1+bh\n",
    "hlayer_act=sigmoid(hinp)\n",
    "outinp1=np.dot(hlayer_act,wout)\n",
    "outinp=outinp1+bout\n",
    "output=sigmoid(outinp)"
   ]
  },
  {
   "cell_type": "code",
   "execution_count": 18,
   "id": "148e5e9d",
   "metadata": {},
   "outputs": [],
   "source": [
    "EO=y-output"
   ]
  },
  {
   "cell_type": "code",
   "execution_count": 19,
   "id": "ad2c41d1",
   "metadata": {},
   "outputs": [],
   "source": [
    "outgrad=derivatives_sigmoid(output)"
   ]
  },
  {
   "cell_type": "code",
   "execution_count": 20,
   "id": "67fed75b",
   "metadata": {},
   "outputs": [],
   "source": [
    "d_output=EO*outgrad"
   ]
  },
  {
   "cell_type": "code",
   "execution_count": 21,
   "id": "2e6b99f9",
   "metadata": {},
   "outputs": [],
   "source": [
    "EH=d_output.dot(wout.T)"
   ]
  },
  {
   "cell_type": "code",
   "execution_count": 22,
   "id": "8acea390",
   "metadata": {},
   "outputs": [],
   "source": [
    "hiddengrad=derivatives_sigmoid(hlayer_act)"
   ]
  },
  {
   "cell_type": "code",
   "execution_count": 23,
   "id": "81aedcdd",
   "metadata": {},
   "outputs": [],
   "source": [
    "d_hiddenlayer=EH*hiddengrad"
   ]
  },
  {
   "cell_type": "code",
   "execution_count": 24,
   "id": "04a356d5",
   "metadata": {},
   "outputs": [],
   "source": [
    "wout+=hlayer_act.T.dot(d_output)*lr"
   ]
  },
  {
   "cell_type": "code",
   "execution_count": 25,
   "id": "af2394b0",
   "metadata": {},
   "outputs": [],
   "source": [
    "wh+=X.T.dot(d_hiddenlayer)*lr"
   ]
  },
  {
   "cell_type": "code",
   "execution_count": 26,
   "id": "5427f361",
   "metadata": {},
   "outputs": [
    {
     "name": "stdout",
     "output_type": "stream",
     "text": [
      "Input:\n",
      "[[0.66666667 1.        ]\n",
      " [0.33333333 0.55555556]\n",
      " [1.         0.66666667]]\n"
     ]
    }
   ],
   "source": [
    "print(\"Input:\\n\"+str(X))"
   ]
  },
  {
   "cell_type": "code",
   "execution_count": 27,
   "id": "daeb801b",
   "metadata": {},
   "outputs": [
    {
     "name": "stdout",
     "output_type": "stream",
     "text": [
      "Actual Output:\n",
      "[[0.92]\n",
      " [0.86]\n",
      " [0.89]]\n"
     ]
    }
   ],
   "source": [
    "print(\"Actual Output:\\n\"+str(y))"
   ]
  },
  {
   "cell_type": "code",
   "execution_count": 28,
   "id": "92a9db0a",
   "metadata": {},
   "outputs": [
    {
     "name": "stdout",
     "output_type": "stream",
     "text": [
      "Predicted Output:\n",
      "[[0.81450929]\n",
      " [0.8057638 ]\n",
      " [0.81468122]]\n"
     ]
    }
   ],
   "source": [
    "print(\"Predicted Output:\\n\"+str(output))"
   ]
  },
  {
   "cell_type": "code",
   "execution_count": null,
   "id": "b93d6ee0",
   "metadata": {},
   "outputs": [],
   "source": []
  }
 ],
 "metadata": {
  "kernelspec": {
   "display_name": "Python 3 (ipykernel)",
   "language": "python",
   "name": "python3"
  },
  "language_info": {
   "codemirror_mode": {
    "name": "ipython",
    "version": 3
   },
   "file_extension": ".py",
   "mimetype": "text/x-python",
   "name": "python",
   "nbconvert_exporter": "python",
   "pygments_lexer": "ipython3",
   "version": "3.9.7"
  }
 },
 "nbformat": 4,
 "nbformat_minor": 5
}
